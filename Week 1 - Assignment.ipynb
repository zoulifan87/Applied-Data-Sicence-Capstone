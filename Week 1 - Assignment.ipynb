## Add this file to the Repository
Print( "Hello Wolrd")
