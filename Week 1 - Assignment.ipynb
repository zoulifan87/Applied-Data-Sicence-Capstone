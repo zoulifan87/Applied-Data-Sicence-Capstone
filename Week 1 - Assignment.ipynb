{
 "cells": [
  {
   "cell_type": "code",
   "execution_count": 1,
   "metadata": {},
   "outputs": [
    {
     "data": {
      "text/plain": [
       "2"
      ]
     },
     "execution_count": 1,
     "metadata": {},
     "output_type": "execute_result"
    }
   ],
   "source": [
    "1+1"
   ]
  },
  {
   "cell_type": "code",
   "execution_count": 3,
   "metadata": {},
   "outputs": [
    {
     "data": {
      "text/plain": [
       "10.0"
      ]
     },
     "execution_count": 3,
     "metadata": {},
     "output_type": "execute_result"
    }
   ],
   "source": [
    "x=2\n",
    "y=9\n",
    "x/2+y"
   ]
  },
  {
   "cell_type": "markdown",
   "metadata": {},
   "source": [
    "This is my title."
   ]
  },
  {
   "cell_type": "markdown",
   "metadata": {},
   "source": [
    "|Items---------|Shop----------|Price----------|\n",
    "|Milk----------|Coles---------|$3.9-----------|\n",
    "|Eggs----------|Coles---------|$4.2-----------|\n",
    "|Bread---------|Preston Market|$5.0-----------|"
   ]
  },
  {
   "cell_type": "code",
   "execution_count": 1,
   "metadata": {},
   "outputs": [
    {
     "ename": "SyntaxError",
     "evalue": "invalid syntax (<ipython-input-1-0f48e1a86b36>, line 1)",
     "output_type": "error",
     "traceback": [
      "\u001b[0;36m  File \u001b[0;32m\"<ipython-input-1-0f48e1a86b36>\"\u001b[0;36m, line \u001b[0;32m1\u001b[0m\n\u001b[0;31m    1.Milk\u001b[0m\n\u001b[0m         ^\u001b[0m\n\u001b[0;31mSyntaxError\u001b[0m\u001b[0;31m:\u001b[0m invalid syntax\n"
     ]
    }
   ],
   "source": [
    "1.Milk\n",
    "2.Eggs\n",
    "3.Bread"
   ]
  },
  {
   "cell_type": "code",
   "execution_count": 2,
   "metadata": {},
   "outputs": [
    {
     "ename": "SyntaxError",
     "evalue": "invalid syntax (<ipython-input-2-5bd1beb0bf46>, line 1)",
     "output_type": "error",
     "traceback": [
      "\u001b[0;36m  File \u001b[0;32m\"<ipython-input-2-5bd1beb0bf46>\"\u001b[0;36m, line \u001b[0;32m1\u001b[0m\n\u001b[0;31m    1.Milk\u001b[0m\n\u001b[0m         ^\u001b[0m\n\u001b[0;31mSyntaxError\u001b[0m\u001b[0;31m:\u001b[0m invalid syntax\n"
     ]
    }
   ],
   "source": [
    "1.Milk\n",
    "..*Eggs\n",
    "..*Bread"
   ]
  },
  {
   "cell_type": "code",
   "execution_count": 3,
   "metadata": {},
   "outputs": [],
   "source": [
    "# H1\n",
    "## H2"
   ]
  },
  {
   "cell_type": "markdown",
   "metadata": {},
   "source": [
    "# H1\n",
    "## H2"
   ]
  },
  {
   "cell_type": "markdown",
   "metadata": {},
   "source": [
    "1. Milk\n",
    "..*Eggs"
   ]
  },
  {
   "cell_type": "code",
   "execution_count": 4,
   "metadata": {},
   "outputs": [
    {
     "ename": "SyntaxError",
     "evalue": "invalid syntax (<ipython-input-4-b6fd195128b2>, line 1)",
     "output_type": "error",
     "traceback": [
      "\u001b[0;36m  File \u001b[0;32m\"<ipython-input-4-b6fd195128b2>\"\u001b[0;36m, line \u001b[0;32m1\u001b[0m\n\u001b[0;31m    1. Milk\u001b[0m\n\u001b[0m          ^\u001b[0m\n\u001b[0;31mSyntaxError\u001b[0m\u001b[0;31m:\u001b[0m invalid syntax\n"
     ]
    }
   ],
   "source": [
    "1. Milk\n",
    "2. Eggs\n",
    "..*\n",
    "3. Bread\n",
    "..*"
   ]
  },
  {
   "cell_type": "markdown",
   "metadata": {},
   "source": [
    "1. Milk\n",
    "2. Eggs\n",
    "..*\n",
    "3. Bread\n",
    "..*"
   ]
  },
  {
   "cell_type": "markdown",
   "metadata": {},
   "source": [
    "|Items            |Shop            |Price          |\n",
    "|-----------------|:--------------:|--------------:|\n",
    "|Milk             |Coles           |$2.9           |\n",
    "|Eggs             |Preston Market  |$3.9           |\n",
    "|Bread            |Coles           |$1.5           |"
   ]
  },
  {
   "cell_type": "markdown",
   "metadata": {},
   "source": [
    "Items | Shop | Price\n",
    "---|---|---|\n",
    "*Milk*|'Coles'|**$3.9**\n",
    "Eggs|Preston Market|$3.9|\n",
    "*Bread*|'Coles'|**$1.5**|"
   ]
  },
  {
   "cell_type": "markdown",
   "metadata": {},
   "source": [
    "Items|Shop|Prices\n",
    "---|---|---\n",
    "Milk|Coles|$2.9\n",
    "Eggs|Preston Market|$3.9\n",
    "Bread|Coles|$1.5"
   ]
  },
  {
   "cell_type": "markdown",
   "metadata": {},
   "source": [
    "Markdown | Less | Pretty\n",
    "--- | --- | ---\n",
    "*Still* | `renders` | **nicely**\n",
    "1 | 2 | 3"
   ]
  },
  {
   "cell_type": "markdown",
   "metadata": {},
   "source": [
    "Item | Shop | Price\n",
    "--- | --- | ---\n",
    "*Milk* | `Coles` | **$2.9**"
   ]
  },
  {
   "cell_type": "code",
   "execution_count": 5,
   "metadata": {},
   "outputs": [
    {
     "ename": "SyntaxError",
     "evalue": "invalid syntax (<ipython-input-5-4ccca1c61f1f>, line 2)",
     "output_type": "error",
     "traceback": [
      "\u001b[0;36m  File \u001b[0;32m\"<ipython-input-5-4ccca1c61f1f>\"\u001b[0;36m, line \u001b[0;32m2\u001b[0m\n\u001b[0;31m    --- | --- | ---\u001b[0m\n\u001b[0m        ^\u001b[0m\n\u001b[0;31mSyntaxError\u001b[0m\u001b[0;31m:\u001b[0m invalid syntax\n"
     ]
    }
   ],
   "source": [
    "Item | Shop | Price\n",
    "--- | --- | ---\n",
    "*Milk* | `Coles` | **$2.9**\n",
    "Eggs | Preston Market | $3.9\n",
    "Bread | Coles | $1.5"
   ]
  },
  {
   "cell_type": "markdown",
   "metadata": {},
   "source": [
    "Item | Shop | Price\n",
    "--- | --- | ---\n",
    "*Milk* | `Coles` | **$2.9**\n",
    "Eggs | Preston Market | $3.9\n",
    "Bread | Coles | $1.5"
   ]
  },
  {
   "cell_type": "markdown",
   "metadata": {},
   "source": [
    "Item | Shop | Price\n",
    "--- | --- | ---\n",
    "*Milk* | `Coles` | **$2.9**\n",
    "Eggs | Preston Market | $3.9"
   ]
  },
  {
   "cell_type": "markdown",
   "metadata": {},
   "source": [
    "Item | Shop | Price\n",
    "--- | --- | ---\n",
    "*Milk* | `Coles` | **$2.9**\n",
    "*Eggs* | 'Preston Market' | **$3.9**\n",
    "*Bread* | 'Coles' | **$1.5**"
   ]
  },
  {
   "cell_type": "markdown",
   "metadata": {},
   "source": [
    "Item | Shop | Price\n",
    "--- | --- | ---\n",
    "*Milk* | `Coles` | **$2.9**\n",
    "1 | 2 | 3\n",
    "*Bread* | 'Coles' | **$1.5**"
   ]
  },
  {
   "cell_type": "markdown",
   "metadata": {},
   "source": [
    "| Tables        | Are           | Cool  |\n",
    "| ------------- |:-------------:| -----:|\n",
    "| col 3 is      | right-aligned | $1600 |\n",
    "| col 2 is      | centered      |   $12 |\n",
    "| zebra stripes | are neat      |    $1 |\n"
   ]
  },
  {
   "cell_type": "markdown",
   "metadata": {},
   "source": [
    "| Tables        | Are           | Cool  |\n",
    "| ------------- |:-------------:| -----:|\n",
    "| col 3 is      | right-aligned | $1600 |\n",
    "| col 2 is      | centered      |   $12 |\n",
    "| zebra stripes | are neat      |    $1 |"
   ]
  },
  {
   "cell_type": "markdown",
   "metadata": {},
   "source": [
    "1. Milk from Coles\n",
    "2. Eggs from the Preston Market\n",
    "3. Bread from Coles"
   ]
  },
  {
   "cell_type": "markdown",
   "metadata": {},
   "source": [
    "Markdown | Less | Pretty\n",
    "--- | --- | ---\n",
    "*Still* | `renders` | **nicely**"
   ]
  },
  {
   "cell_type": "markdown",
   "metadata": {},
   "source": [
    "Markdown | Less | Pretty\n",
    "--- | --- | ---\n",
    "*Still* | `renders` | **nicely**\n",
    "Eggs | Preston | $3.9"
   ]
  },
  {
   "cell_type": "markdown",
   "metadata": {},
   "source": [
    "Items | Shop | Price\n",
    "--- | --- | ---\n",
    "*Milk* | `Coles` | **$2.9**\n",
    "Eggs | Preston | $3.9\n",
    "Bread | Coles | $1.5"
   ]
  },
  {
   "cell_type": "markdown",
   "metadata": {},
   "source": [
    "Markdown | Less | Pretty\n",
    "--- | --- | ---\n",
    "*Milk* | `Coles` | **$2.9**\n",
    "Eggs | Preston | $3.9"
   ]
  },
  {
   "cell_type": "markdown",
   "metadata": {},
   "source": [
    "Items | Shop | Price($)\n",
    "--- | --- | ---\n",
    "*Milk* | `Coles` | **2.9**\n",
    "Eggs | Preston | 3.9"
   ]
  },
  {
   "cell_type": "markdown",
   "metadata": {},
   "source": [
    "Items | Shop | Price($)\n",
    "--- | --- | ---\n",
    "*Milk* | `Coles` | **2.9**\n",
    "Eggs | Preston | 3.9\n",
    "Bread | Coles | 1.5"
   ]
  },
  {
   "cell_type": "markdown",
   "metadata": {},
   "source": [
    "Items | Shop | Price($)\n",
    "--- | --- | ---\n",
    "*Milk* | `Coles` | **$2.9**\n",
    "Eggs | Preston | 3.9\n",
    "Bread | Coles | 1.5"
   ]
  },
  {
   "cell_type": "markdown",
   "metadata": {},
   "source": [
    "Items | Shop | Price($)\n",
    "--- | --- | ---\n",
    "*Milk* | `Coles` | **($)2.9**\n",
    "Eggs | Preston | 3.9\n",
    "Bread | Coles | 1.5"
   ]
  },
  {
   "cell_type": "markdown",
   "metadata": {},
   "source": [
    "Items | Shop | Price($)\n",
    "--- | --- | ---\n",
    "*Milk* | `Coles` | **2.9**\n",
    "Eggs | Preston | 3.9\n",
    "Bread | Coles | 1.5"
   ]
  },
  {
   "cell_type": "markdown",
   "metadata": {},
   "source": [
    "Here's our logo (hover to see the title text):\n",
    "\n",
    "Inline-style: \n",
    "![alt text](https://www.pixelsquid.com/png/glass-of-milk-2084277331131635437?image=G03 \"Milk Image Text 1\")\n",
    "\n",
    "Reference-style: \n",
    "![alt text][Milk]\n",
    "\n",
    "[Milk]: https://www.pixelsquid.com/png/glass-of-milk-2084277331131635437?image=G03 \"Milk Image Text 2\""
   ]
  },
  {
   "cell_type": "code",
   "execution_count": null,
   "metadata": {},
   "outputs": [],
   "source": []
  }
 ],
 "metadata": {
  "kernelspec": {
   "display_name": "Python",
   "language": "python",
   "name": "conda-env-python-py"
  },
  "language_info": {
   "codemirror_mode": {
    "name": "ipython",
    "version": 3
   },
   "file_extension": ".py",
   "mimetype": "text/x-python",
   "name": "python",
   "nbconvert_exporter": "python",
   "pygments_lexer": "ipython3",
   "version": "3.6.11"
  }
 },
 "nbformat": 4,
 "nbformat_minor": 4
}
