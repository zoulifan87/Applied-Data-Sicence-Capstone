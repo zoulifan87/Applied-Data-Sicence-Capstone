{
 "cells": [
  {
   "cell_type": "markdown",
   "metadata": {},
   "source": [
    "## Segmenting and Clustering Neighborhoods in Toronto"
   ]
  },
  {
   "cell_type": "markdown",
   "metadata": {},
   "source": [
    "#### Problem 2:\n",
    "We have built a dataframe of the postal code of each neighborhood along with the borough name and neighborhood name, in order to utilize the Foursquare location data, we need to get the latitude and the longitude coordinates of each neighborhood."
   ]
  },
  {
   "cell_type": "code",
   "execution_count": 13,
   "metadata": {},
   "outputs": [
    {
     "name": "stdout",
     "output_type": "stream",
     "text": [
      "Requirement already satisfied: geocoder in /home/jupyterlab/conda/envs/python/lib/python3.6/site-packages (1.38.1)\n",
      "Requirement already satisfied: ratelim in /home/jupyterlab/conda/envs/python/lib/python3.6/site-packages (from geocoder) (0.1.6)\n",
      "Requirement already satisfied: future in /home/jupyterlab/conda/envs/python/lib/python3.6/site-packages (from geocoder) (0.18.2)\n",
      "Requirement already satisfied: six in /home/jupyterlab/conda/envs/python/lib/python3.6/site-packages (from geocoder) (1.15.0)\n",
      "Requirement already satisfied: click in /home/jupyterlab/conda/envs/python/lib/python3.6/site-packages (from geocoder) (7.1.2)\n",
      "Requirement already satisfied: requests in /home/jupyterlab/conda/envs/python/lib/python3.6/site-packages (from geocoder) (2.24.0)\n",
      "Requirement already satisfied: decorator in /home/jupyterlab/conda/envs/python/lib/python3.6/site-packages (from ratelim->geocoder) (4.4.2)\n",
      "Requirement already satisfied: idna<3,>=2.5 in /home/jupyterlab/conda/envs/python/lib/python3.6/site-packages (from requests->geocoder) (2.10)\n",
      "Requirement already satisfied: certifi>=2017.4.17 in /home/jupyterlab/conda/envs/python/lib/python3.6/site-packages (from requests->geocoder) (2020.6.20)\n",
      "Requirement already satisfied: urllib3!=1.25.0,!=1.25.1,<1.26,>=1.21.1 in /home/jupyterlab/conda/envs/python/lib/python3.6/site-packages (from requests->geocoder) (1.25.11)\n",
      "Requirement already satisfied: chardet<4,>=3.0.2 in /home/jupyterlab/conda/envs/python/lib/python3.6/site-packages (from requests->geocoder) (3.0.4)\n",
      "Packages installed.\n"
     ]
    }
   ],
   "source": [
    "import sys\n",
    "!{sys.executable} -m pip install geocoder\n",
    "\n",
    "print('Packages installed.')"
   ]
  },
  {
   "cell_type": "code",
   "execution_count": 14,
   "metadata": {},
   "outputs": [
    {
     "name": "stdout",
     "output_type": "stream",
     "text": [
      "Requirement already satisfied: BeautifulSoup4 in /home/jupyterlab/conda/envs/python/lib/python3.6/site-packages (4.9.3)\n",
      "Requirement already satisfied: soupsieve>1.2; python_version >= \"3.0\" in /home/jupyterlab/conda/envs/python/lib/python3.6/site-packages (from BeautifulSoup4) (2.0.1)\n",
      "Note: you may need to restart the kernel to use updated packages.\n"
     ]
    }
   ],
   "source": [
    "pip install BeautifulSoup4"
   ]
  },
  {
   "cell_type": "code",
   "execution_count": 15,
   "metadata": {},
   "outputs": [
    {
     "name": "stdout",
     "output_type": "stream",
     "text": [
      "Libraries imported.\n"
     ]
    }
   ],
   "source": [
    "import numpy as np # library to handle data in a vectorized manner\n",
    "import pandas as pd # library for data analsysis\n",
    "import geocoder # import geocoder\n",
    "import requests \n",
    "from bs4 import BeautifulSoup \n",
    "\n",
    "print('Libraries imported.')"
   ]
  },
  {
   "cell_type": "code",
   "execution_count": 17,
   "metadata": {},
   "outputs": [
    {
     "name": "stdout",
     "output_type": "stream",
     "text": [
      "Page Scrapped.\n"
     ]
    }
   ],
   "source": [
    "URL = \"https://en.wikipedia.org/wiki/List_of_postal_codes_of_Canada:_M\"\n",
    "r = requests.get(URL) \n",
    "  \n",
    "soup = BeautifulSoup(r.content, 'html5lib') \n",
    "table = soup.find('div', attrs = {'id':'container'}) \n",
    "\n",
    "# print(soup.prettify()) \n",
    "print('Page Scrapped.')"
   ]
  },
  {
   "cell_type": "code",
   "execution_count": 18,
   "metadata": {},
   "outputs": [
    {
     "name": "stdout",
     "output_type": "stream",
     "text": [
      "Data Collected.\n"
     ]
    }
   ],
   "source": [
    "postalCodes = [];\n",
    "boroughs= [];\n",
    "neighborhoods = [];\n",
    "columnNum = 1;\n",
    "passVal = False\n",
    "\n",
    "for row in soup.find_all('td'):\n",
    "    for cell in row:\n",
    "        if cell.string and cell.string[0].isalpha() and len(cell.string) > 2:\n",
    "            passVal = False\n",
    "            if columnNum == 1:\n",
    "                if passVal == False and cell.string[1].isdigit():\n",
    "                    postalCodes.append(cell.string);   \n",
    "                    columnNum = 2\n",
    "                else:\n",
    "                    continue\n",
    "            elif columnNum == 2 :\n",
    "                if cell.string == 'Not assigned':\n",
    "                    passVal = True\n",
    "                    del postalCodes[-1]\n",
    "                    columnNum = 1\n",
    "                    continue\n",
    "                else:\n",
    "                    boroughs.append(cell.string);      \n",
    "                    columnNum = 3\n",
    "            elif columnNum == 3 :\n",
    "                if cell.string == 'Not assigned\\n':\n",
    "                    neighborhoods.append(boroughs[-1])\n",
    "                else:\n",
    "                    neighborhoods.append(cell.string); \n",
    "                columnNum = 1\n",
    "                \n",
    "print('Data Collected.')"
   ]
  },
  {
   "cell_type": "code",
   "execution_count": 19,
   "metadata": {},
   "outputs": [
    {
     "data": {
      "text/html": [
       "<div>\n",
       "<style scoped>\n",
       "    .dataframe tbody tr th:only-of-type {\n",
       "        vertical-align: middle;\n",
       "    }\n",
       "\n",
       "    .dataframe tbody tr th {\n",
       "        vertical-align: top;\n",
       "    }\n",
       "\n",
       "    .dataframe thead th {\n",
       "        text-align: right;\n",
       "    }\n",
       "</style>\n",
       "<table border=\"1\" class=\"dataframe\">\n",
       "  <thead>\n",
       "    <tr style=\"text-align: right;\">\n",
       "      <th></th>\n",
       "      <th>PostalCode</th>\n",
       "      <th>Borough</th>\n",
       "      <th>Neighborhood</th>\n",
       "      <th>Latitude</th>\n",
       "      <th>Longitude</th>\n",
       "    </tr>\n",
       "  </thead>\n",
       "  <tbody>\n",
       "  </tbody>\n",
       "</table>\n",
       "</div>"
      ],
      "text/plain": [
       "Empty DataFrame\n",
       "Columns: [PostalCode, Borough, Neighborhood, Latitude, Longitude]\n",
       "Index: []"
      ]
     },
     "execution_count": 19,
     "metadata": {},
     "output_type": "execute_result"
    }
   ],
   "source": [
    "# define the dataframe columns\n",
    "column_names = ['PostalCode', 'Borough', 'Neighborhood', 'Latitude', 'Longitude'] \n",
    "\n",
    "# instantiate the dataframe\n",
    "neighbors = pd.DataFrame(columns=column_names)\n",
    "\n",
    "neighbors"
   ]
  },
  {
   "cell_type": "code",
   "execution_count": 20,
   "metadata": {},
   "outputs": [
    {
     "data": {
      "text/html": [
       "<div>\n",
       "<style scoped>\n",
       "    .dataframe tbody tr th:only-of-type {\n",
       "        vertical-align: middle;\n",
       "    }\n",
       "\n",
       "    .dataframe tbody tr th {\n",
       "        vertical-align: top;\n",
       "    }\n",
       "\n",
       "    .dataframe thead th {\n",
       "        text-align: right;\n",
       "    }\n",
       "</style>\n",
       "<table border=\"1\" class=\"dataframe\">\n",
       "  <thead>\n",
       "    <tr style=\"text-align: right;\">\n",
       "      <th></th>\n",
       "      <th>PostalCode</th>\n",
       "      <th>Borough</th>\n",
       "      <th>Neighborhood</th>\n",
       "      <th>Latitude</th>\n",
       "      <th>Longitude</th>\n",
       "    </tr>\n",
       "  </thead>\n",
       "  <tbody>\n",
       "    <tr>\n",
       "      <th>0</th>\n",
       "      <td>M1A\\n</td>\n",
       "      <td>Not assigned\\n</td>\n",
       "      <td>Not assigned\\n</td>\n",
       "      <td>43.64869</td>\n",
       "      <td>-79.38544</td>\n",
       "    </tr>\n",
       "    <tr>\n",
       "      <th>1</th>\n",
       "      <td>M2A\\n</td>\n",
       "      <td>Not assigned\\n</td>\n",
       "      <td>Not assigned\\n</td>\n",
       "      <td>43.64869</td>\n",
       "      <td>-79.38544</td>\n",
       "    </tr>\n",
       "    <tr>\n",
       "      <th>2</th>\n",
       "      <td>M3A\\n</td>\n",
       "      <td>North York\\n</td>\n",
       "      <td>Parkwoods\\n</td>\n",
       "      <td>43.75245</td>\n",
       "      <td>-79.32991</td>\n",
       "    </tr>\n",
       "    <tr>\n",
       "      <th>3</th>\n",
       "      <td>M4A\\n</td>\n",
       "      <td>North York\\n</td>\n",
       "      <td>Victoria Village\\n</td>\n",
       "      <td>43.73057</td>\n",
       "      <td>-79.31306</td>\n",
       "    </tr>\n",
       "    <tr>\n",
       "      <th>4</th>\n",
       "      <td>M5A\\n</td>\n",
       "      <td>Downtown Toronto\\n</td>\n",
       "      <td>Regent Park, Harbourfront\\n</td>\n",
       "      <td>43.65512</td>\n",
       "      <td>-79.36264</td>\n",
       "    </tr>\n",
       "    <tr>\n",
       "      <th>...</th>\n",
       "      <td>...</td>\n",
       "      <td>...</td>\n",
       "      <td>...</td>\n",
       "      <td>...</td>\n",
       "      <td>...</td>\n",
       "    </tr>\n",
       "    <tr>\n",
       "      <th>174</th>\n",
       "      <td>M4Z\\n</td>\n",
       "      <td>Not assigned\\n</td>\n",
       "      <td>Not assigned\\n</td>\n",
       "      <td>43.64869</td>\n",
       "      <td>-79.38544</td>\n",
       "    </tr>\n",
       "    <tr>\n",
       "      <th>175</th>\n",
       "      <td>M5Z\\n</td>\n",
       "      <td>Not assigned\\n</td>\n",
       "      <td>Not assigned\\n</td>\n",
       "      <td>43.64869</td>\n",
       "      <td>-79.38544</td>\n",
       "    </tr>\n",
       "    <tr>\n",
       "      <th>176</th>\n",
       "      <td>M6Z\\n</td>\n",
       "      <td>Not assigned\\n</td>\n",
       "      <td>Not assigned\\n</td>\n",
       "      <td>43.64869</td>\n",
       "      <td>-79.38544</td>\n",
       "    </tr>\n",
       "    <tr>\n",
       "      <th>177</th>\n",
       "      <td>M7Z\\n</td>\n",
       "      <td>Not assigned\\n</td>\n",
       "      <td>Not assigned\\n</td>\n",
       "      <td>43.64869</td>\n",
       "      <td>-79.38544</td>\n",
       "    </tr>\n",
       "    <tr>\n",
       "      <th>178</th>\n",
       "      <td>M8Z\\n</td>\n",
       "      <td>Etobicoke\\n</td>\n",
       "      <td>Mimico NW, The Queensway West, South of Bloor,...</td>\n",
       "      <td>43.62513</td>\n",
       "      <td>-79.52681</td>\n",
       "    </tr>\n",
       "  </tbody>\n",
       "</table>\n",
       "<p>179 rows × 5 columns</p>\n",
       "</div>"
      ],
      "text/plain": [
       "    PostalCode             Borough  \\\n",
       "0        M1A\\n      Not assigned\\n   \n",
       "1        M2A\\n      Not assigned\\n   \n",
       "2        M3A\\n        North York\\n   \n",
       "3        M4A\\n        North York\\n   \n",
       "4        M5A\\n  Downtown Toronto\\n   \n",
       "..         ...                 ...   \n",
       "174      M4Z\\n      Not assigned\\n   \n",
       "175      M5Z\\n      Not assigned\\n   \n",
       "176      M6Z\\n      Not assigned\\n   \n",
       "177      M7Z\\n      Not assigned\\n   \n",
       "178      M8Z\\n         Etobicoke\\n   \n",
       "\n",
       "                                          Neighborhood  Latitude  Longitude  \n",
       "0                                       Not assigned\\n  43.64869  -79.38544  \n",
       "1                                       Not assigned\\n  43.64869  -79.38544  \n",
       "2                                          Parkwoods\\n  43.75245  -79.32991  \n",
       "3                                   Victoria Village\\n  43.73057  -79.31306  \n",
       "4                          Regent Park, Harbourfront\\n  43.65512  -79.36264  \n",
       "..                                                 ...       ...        ...  \n",
       "174                                     Not assigned\\n  43.64869  -79.38544  \n",
       "175                                     Not assigned\\n  43.64869  -79.38544  \n",
       "176                                     Not assigned\\n  43.64869  -79.38544  \n",
       "177                                     Not assigned\\n  43.64869  -79.38544  \n",
       "178  Mimico NW, The Queensway West, South of Bloor,...  43.62513  -79.52681  \n",
       "\n",
       "[179 rows x 5 columns]"
      ]
     },
     "execution_count": 20,
     "metadata": {},
     "output_type": "execute_result"
    }
   ],
   "source": [
    "# initialize your variable to None\n",
    "lat_lng_coords = None\n",
    "\n",
    "for data in range(0, len(postalCodes)-1):\n",
    "    code = postalCodes[data]\n",
    "    borough = boroughs[data]\n",
    "    neighborhood_name = neighborhoods[data]\n",
    "    \n",
    "    g = geocoder.arcgis('{}, Toronto, Ontario'.format(code))\n",
    "    lat_lng_coords = g.latlng\n",
    "\n",
    "    neighbors = neighbors.append({ 'PostalCode': code,\n",
    "                                   'Borough': borough,\n",
    "                                   'Neighborhood': neighborhood_name,\n",
    "                                   'Latitude': lat_lng_coords[0],\n",
    "                                   'Longitude': lat_lng_coords[1]}, ignore_index=True)\n",
    "    \n",
    "neighbors"
   ]
  },
  {
   "cell_type": "code",
   "execution_count": 21,
   "metadata": {},
   "outputs": [
    {
     "data": {
      "text/plain": [
       "(179, 5)"
      ]
     },
     "execution_count": 21,
     "metadata": {},
     "output_type": "execute_result"
    }
   ],
   "source": [
    "neighbors.shape"
   ]
  },
  {
   "cell_type": "code",
   "execution_count": null,
   "metadata": {},
   "outputs": [],
   "source": []
  }
 ],
 "metadata": {
  "kernelspec": {
   "display_name": "Python",
   "language": "python",
   "name": "conda-env-python-py"
  },
  "language_info": {
   "codemirror_mode": {
    "name": "ipython",
    "version": 3
   },
   "file_extension": ".py",
   "mimetype": "text/x-python",
   "name": "python",
   "nbconvert_exporter": "python",
   "pygments_lexer": "ipython3",
   "version": "3.6.11"
  }
 },
 "nbformat": 4,
 "nbformat_minor": 4
}
