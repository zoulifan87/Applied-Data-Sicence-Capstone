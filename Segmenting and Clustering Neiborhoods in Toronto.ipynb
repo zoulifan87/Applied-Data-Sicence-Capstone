{
 "cells": [
  {
   "cell_type": "markdown",
   "metadata": {},
   "source": [
    "## Segmenting and Clustering Neighborhoods in Toronto"
   ]
  },
  {
   "cell_type": "markdown",
   "metadata": {},
   "source": [
    "#### 1. Scrape the data to pandas Dataframe from the following wikipedia page:\n",
    "https://en.wikipedia.org/wiki/List_of_postal_codes_of_Canada:_M,\n",
    "\n",
    "####  To create the above dataframe:\n",
    "\n",
    "* The dataframe will consist of three columns: PostalCode, Borough, and Neighborhood\n",
    "* Only process the cells that have an assigned borough. Ignore cells with a borough that is Not assigned.\n",
    "* More than one neighborhood can exist in one postal code area. For example, in the table on the Wikipedia page, you will notice that M5A is listed twice and has two neighborhoods: Harbourfront and Regent Park. These two rows will be combined into one row with the neighborhoods separated with a comma as shown in row 11 in the above table.\n",
    "* If a cell has a borough but a Not assigned neighborhood, then the neighborhood will be the same as the borough.\n",
    "* Clean your Notebook and add Markdown cells to explain your work and any assumptions you are making.\n",
    "* In the last cell of your notebook, use the .shape method to print the number of rows of your dataframe."
   ]
  },
  {
   "cell_type": "code",
   "execution_count": 24,
   "metadata": {},
   "outputs": [
    {
     "name": "stdout",
     "output_type": "stream",
     "text": [
      "Requirement already satisfied: lxml in /home/jupyterlab/conda/envs/python/lib/python3.6/site-packages (4.6.1)\n",
      "Libraries improted\n"
     ]
    }
   ],
   "source": [
    "!pip install lxml\n",
    "import lxml\n",
    "import pandas as pd\n",
    "import numpy as np\n",
    "print('Libraries improted')"
   ]
  },
  {
   "cell_type": "markdown",
   "metadata": {},
   "source": [
    "#### Use \"read_html\" to scrape the table"
   ]
  },
  {
   "cell_type": "code",
   "execution_count": 25,
   "metadata": {},
   "outputs": [],
   "source": [
    "# dfs = pd.read_html('https://en.wikipedia.org/wiki/List_of_postal_codes_of_Canada:_M',header=0)\n",
    "# df = dfs[0]\n",
    "# df = df[df.Borough != 'Not assigned']\n",
    "# df = df.groupby(by=['Postcode','Borough']).agg(lambda x: ','.join(x))\n",
    "# df.shape"
   ]
  },
  {
   "cell_type": "code",
   "execution_count": 26,
   "metadata": {},
   "outputs": [
    {
     "data": {
      "text/html": [
       "<div>\n",
       "<style scoped>\n",
       "    .dataframe tbody tr th:only-of-type {\n",
       "        vertical-align: middle;\n",
       "    }\n",
       "\n",
       "    .dataframe tbody tr th {\n",
       "        vertical-align: top;\n",
       "    }\n",
       "\n",
       "    .dataframe thead th {\n",
       "        text-align: right;\n",
       "    }\n",
       "</style>\n",
       "<table border=\"1\" class=\"dataframe\">\n",
       "  <thead>\n",
       "    <tr style=\"text-align: right;\">\n",
       "      <th></th>\n",
       "      <th>Postal Code</th>\n",
       "      <th>Borough</th>\n",
       "      <th>Neighbourhood</th>\n",
       "    </tr>\n",
       "  </thead>\n",
       "  <tbody>\n",
       "    <tr>\n",
       "      <th>0</th>\n",
       "      <td>M1A</td>\n",
       "      <td>Not assigned</td>\n",
       "      <td>Not assigned</td>\n",
       "    </tr>\n",
       "    <tr>\n",
       "      <th>1</th>\n",
       "      <td>M2A</td>\n",
       "      <td>Not assigned</td>\n",
       "      <td>Not assigned</td>\n",
       "    </tr>\n",
       "    <tr>\n",
       "      <th>2</th>\n",
       "      <td>M3A</td>\n",
       "      <td>North York</td>\n",
       "      <td>Parkwoods</td>\n",
       "    </tr>\n",
       "    <tr>\n",
       "      <th>3</th>\n",
       "      <td>M4A</td>\n",
       "      <td>North York</td>\n",
       "      <td>Victoria Village</td>\n",
       "    </tr>\n",
       "    <tr>\n",
       "      <th>4</th>\n",
       "      <td>M5A</td>\n",
       "      <td>Downtown Toronto</td>\n",
       "      <td>Regent Park, Harbourfront</td>\n",
       "    </tr>\n",
       "  </tbody>\n",
       "</table>\n",
       "</div>"
      ],
      "text/plain": [
       "  Postal Code           Borough              Neighbourhood\n",
       "0         M1A      Not assigned               Not assigned\n",
       "1         M2A      Not assigned               Not assigned\n",
       "2         M3A        North York                  Parkwoods\n",
       "3         M4A        North York           Victoria Village\n",
       "4         M5A  Downtown Toronto  Regent Park, Harbourfront"
      ]
     },
     "execution_count": 26,
     "metadata": {},
     "output_type": "execute_result"
    }
   ],
   "source": [
    "url = 'https://en.wikipedia.org/wiki/List_of_postal_codes_of_Canada:_M'\n",
    "tables = pd.read_html(url, header=0)\n",
    "table = tables[0]\n",
    "table.head()"
   ]
  },
  {
   "cell_type": "code",
   "execution_count": 27,
   "metadata": {},
   "outputs": [
    {
     "data": {
      "text/plain": [
       "(180, 3)"
      ]
     },
     "execution_count": 27,
     "metadata": {},
     "output_type": "execute_result"
    }
   ],
   "source": [
    "table.shape"
   ]
  },
  {
   "cell_type": "markdown",
   "metadata": {},
   "source": [
    "#### Check the number of \"Not assigned\" in Borough and Neighborhood"
   ]
  },
  {
   "cell_type": "code",
   "execution_count": 28,
   "metadata": {},
   "outputs": [
    {
     "data": {
      "text/plain": [
       "Not assigned        77\n",
       "North York          24\n",
       "Downtown Toronto    19\n",
       "Scarborough         17\n",
       "Etobicoke           12\n",
       "Central Toronto      9\n",
       "West Toronto         6\n",
       "York                 5\n",
       "East Toronto         5\n",
       "East York            5\n",
       "Mississauga          1\n",
       "Name: Borough, dtype: int64"
      ]
     },
     "execution_count": 28,
     "metadata": {},
     "output_type": "execute_result"
    }
   ],
   "source": [
    "table.Borough.value_counts()"
   ]
  },
  {
   "cell_type": "code",
   "execution_count": 29,
   "metadata": {},
   "outputs": [
    {
     "data": {
      "text/plain": [
       "Not assigned                                                                                                                              77\n",
       "Downsview                                                                                                                                  4\n",
       "Don Mills                                                                                                                                  2\n",
       "The Annex, North Midtown, Yorkville                                                                                                        1\n",
       "Runnymede, Swansea                                                                                                                         1\n",
       "Rouge Hill, Port Union, Highland Creek                                                                                                     1\n",
       "Parkdale, Roncesvalles                                                                                                                     1\n",
       "Parkview Hill, Woodbine Gardens                                                                                                            1\n",
       "Forest Hill North & West, Forest Hill Road Park                                                                                            1\n",
       "Woodbine Heights                                                                                                                           1\n",
       "Islington Avenue, Humber Valley Village                                                                                                    1\n",
       "Studio District                                                                                                                            1\n",
       "India Bazaar, The Beaches West                                                                                                             1\n",
       "Westmount                                                                                                                                  1\n",
       "West Deane Park, Princess Gardens, Martin Grove, Islington, Cloverdale                                                                     1\n",
       "Leaside                                                                                                                                    1\n",
       "CN Tower, King and Spadina, Railway Lands, Harbourfront West, Bathurst Quay, South Niagara, Island airport                                 1\n",
       "New Toronto, Mimico South, Humber Bay Shores                                                                                               1\n",
       "Humberlea, Emery                                                                                                                           1\n",
       "Humewood-Cedarvale                                                                                                                         1\n",
       "Fairview, Henry Farm, Oriole                                                                                                               1\n",
       "Business reply mail Processing Centre, South Central Letter Processing Plant Toronto                                                       1\n",
       "Milliken, Agincourt North, Steeles East, L'Amoreaux East                                                                                   1\n",
       "Thorncliffe Park                                                                                                                           1\n",
       "Agincourt                                                                                                                                  1\n",
       "Cedarbrae                                                                                                                                  1\n",
       "Dufferin, Dovercourt Village                                                                                                               1\n",
       "Cliffside, Cliffcrest, Scarborough Village West                                                                                            1\n",
       "Willowdale, Willowdale West                                                                                                                1\n",
       "South Steeles, Silverstone, Humbergate, Jamestown, Mount Olive, Beaumond Heights, Thistletown, Albion Gardens                              1\n",
       "Caledonia-Fairbanks                                                                                                                        1\n",
       "Glencairn                                                                                                                                  1\n",
       "Christie                                                                                                                                   1\n",
       "First Canadian Place, Underground city                                                                                                     1\n",
       "Woburn                                                                                                                                     1\n",
       "Berczy Park                                                                                                                                1\n",
       "Dorset Park, Wexford Heights, Scarborough Town Centre                                                                                      1\n",
       "Brockton, Parkdale Village, Exhibition Place                                                                                               1\n",
       "Lawrence Manor, Lawrence Heights                                                                                                           1\n",
       "Guildwood, Morningside, West Hill                                                                                                          1\n",
       "Lawrence Park                                                                                                                              1\n",
       "Kensington Market, Chinatown, Grange Park                                                                                                  1\n",
       "Bayview Village                                                                                                                            1\n",
       "Central Bay Street                                                                                                                         1\n",
       "University of Toronto, Harbord                                                                                                             1\n",
       "Commerce Court, Victoria Hotel                                                                                                             1\n",
       "Moore Park, Summerhill East                                                                                                                1\n",
       "North Park, Maple Leaf Park, Upwood Park                                                                                                   1\n",
       "York Mills West                                                                                                                            1\n",
       "Weston                                                                                                                                     1\n",
       "Queen's Park, Ontario Provincial Government                                                                                                1\n",
       "Northwood Park, York University                                                                                                            1\n",
       "Parkwoods                                                                                                                                  1\n",
       "York Mills, Silver Hills                                                                                                                   1\n",
       "Kennedy Park, Ionview, East Birchmount Park                                                                                                1\n",
       "Roselawn                                                                                                                                   1\n",
       "Hillcrest Village                                                                                                                          1\n",
       "Davisville North                                                                                                                           1\n",
       "High Park, The Junction South                                                                                                              1\n",
       "Steeles West, L'Amoreaux West                                                                                                              1\n",
       "St. James Town, Cabbagetown                                                                                                                1\n",
       "Wexford, Maryvale                                                                                                                          1\n",
       "The Beaches                                                                                                                                1\n",
       "Clarks Corners, Tam O'Shanter, Sullivan                                                                                                    1\n",
       "Stn A PO Boxes                                                                                                                             1\n",
       "Malvern, Rouge                                                                                                                             1\n",
       "Northwest, West Humber - Clairville                                                                                                        1\n",
       "The Danforth West, Riverdale                                                                                                               1\n",
       "Willowdale, Newtonbrook                                                                                                                    1\n",
       "Upper Rouge                                                                                                                                1\n",
       "Humber Summit                                                                                                                              1\n",
       "Bathurst Manor, Wilson Heights, Downsview North                                                                                            1\n",
       "The Kingsway, Montgomery Road, Old Mill North                                                                                              1\n",
       "Davisville                                                                                                                                 1\n",
       "Victoria Village                                                                                                                           1\n",
       "St. James Town                                                                                                                             1\n",
       "North Toronto West, Lawrence Park                                                                                                          1\n",
       "Scarborough Village                                                                                                                        1\n",
       "Golden Mile, Clairlea, Oakridge                                                                                                            1\n",
       "Canada Post Gateway Processing Centre                                                                                                      1\n",
       "Richmond, Adelaide, King                                                                                                                   1\n",
       "Runnymede, The Junction North                                                                                                              1\n",
       "Little Portugal, Trinity                                                                                                                   1\n",
       "Garden District, Ryerson                                                                                                                   1\n",
       "Eringate, Bloordale Gardens, Old Burnhamthorpe, Markland Wood                                                                              1\n",
       "Birch Cliff, Cliffside West                                                                                                                1\n",
       "Church and Wellesley                                                                                                                       1\n",
       "Toronto Dominion Centre, Design Exchange                                                                                                   1\n",
       "East Toronto, Broadview North (Old East York)                                                                                              1\n",
       "Kingsview Village, St. Phillips, Martin Grove Gardens, Richview Gardens                                                                    1\n",
       "Mimico NW, The Queensway West, South of Bloor, Kingsway Park South West, Royal York South West                                             1\n",
       "Old Mill South, King's Mill Park, Sunnylea, Humber Bay, Mimico NE, The Queensway East, Royal York South East, Kingsway Park South East     1\n",
       "Rosedale                                                                                                                                   1\n",
       "Harbourfront East, Union Station, Toronto Islands                                                                                          1\n",
       "Regent Park, Harbourfront                                                                                                                  1\n",
       "Willowdale, Willowdale East                                                                                                                1\n",
       "Alderwood, Long Branch                                                                                                                     1\n",
       "Summerhill West, Rathnelly, South Hill, Forest Hill SE, Deer Park                                                                          1\n",
       "Del Ray, Mount Dennis, Keelsdale and Silverthorn                                                                                           1\n",
       "Bedford Park, Lawrence Manor East                                                                                                          1\n",
       "Name: Neighbourhood, dtype: int64"
      ]
     },
     "execution_count": 29,
     "metadata": {},
     "output_type": "execute_result"
    }
   ],
   "source": [
    "table.Neighbourhood.value_counts()"
   ]
  },
  {
   "cell_type": "markdown",
   "metadata": {},
   "source": [
    "#### Use nan to replace \"Not assigned\" in Borough."
   ]
  },
  {
   "cell_type": "code",
   "execution_count": 30,
   "metadata": {},
   "outputs": [
    {
     "data": {
      "text/html": [
       "<div>\n",
       "<style scoped>\n",
       "    .dataframe tbody tr th:only-of-type {\n",
       "        vertical-align: middle;\n",
       "    }\n",
       "\n",
       "    .dataframe tbody tr th {\n",
       "        vertical-align: top;\n",
       "    }\n",
       "\n",
       "    .dataframe thead th {\n",
       "        text-align: right;\n",
       "    }\n",
       "</style>\n",
       "<table border=\"1\" class=\"dataframe\">\n",
       "  <thead>\n",
       "    <tr style=\"text-align: right;\">\n",
       "      <th></th>\n",
       "      <th>Postal Code</th>\n",
       "      <th>Borough</th>\n",
       "      <th>Neighbourhood</th>\n",
       "    </tr>\n",
       "  </thead>\n",
       "  <tbody>\n",
       "    <tr>\n",
       "      <th>0</th>\n",
       "      <td>M1A</td>\n",
       "      <td>NaN</td>\n",
       "      <td>Not assigned</td>\n",
       "    </tr>\n",
       "    <tr>\n",
       "      <th>1</th>\n",
       "      <td>M2A</td>\n",
       "      <td>NaN</td>\n",
       "      <td>Not assigned</td>\n",
       "    </tr>\n",
       "    <tr>\n",
       "      <th>2</th>\n",
       "      <td>M3A</td>\n",
       "      <td>North York</td>\n",
       "      <td>Parkwoods</td>\n",
       "    </tr>\n",
       "    <tr>\n",
       "      <th>3</th>\n",
       "      <td>M4A</td>\n",
       "      <td>North York</td>\n",
       "      <td>Victoria Village</td>\n",
       "    </tr>\n",
       "    <tr>\n",
       "      <th>4</th>\n",
       "      <td>M5A</td>\n",
       "      <td>Downtown Toronto</td>\n",
       "      <td>Regent Park, Harbourfront</td>\n",
       "    </tr>\n",
       "  </tbody>\n",
       "</table>\n",
       "</div>"
      ],
      "text/plain": [
       "  Postal Code           Borough              Neighbourhood\n",
       "0         M1A               NaN               Not assigned\n",
       "1         M2A               NaN               Not assigned\n",
       "2         M3A        North York                  Parkwoods\n",
       "3         M4A        North York           Victoria Village\n",
       "4         M5A  Downtown Toronto  Regent Park, Harbourfront"
      ]
     },
     "execution_count": 30,
     "metadata": {},
     "output_type": "execute_result"
    }
   ],
   "source": [
    "table.Borough.replace(\"Not assigned\", np.nan, inplace = True)\n",
    "table.head()"
   ]
  },
  {
   "cell_type": "markdown",
   "metadata": {},
   "source": [
    "#### Drop the rows where borough has Nan."
   ]
  },
  {
   "cell_type": "code",
   "execution_count": 31,
   "metadata": {},
   "outputs": [
    {
     "data": {
      "text/html": [
       "<div>\n",
       "<style scoped>\n",
       "    .dataframe tbody tr th:only-of-type {\n",
       "        vertical-align: middle;\n",
       "    }\n",
       "\n",
       "    .dataframe tbody tr th {\n",
       "        vertical-align: top;\n",
       "    }\n",
       "\n",
       "    .dataframe thead th {\n",
       "        text-align: right;\n",
       "    }\n",
       "</style>\n",
       "<table border=\"1\" class=\"dataframe\">\n",
       "  <thead>\n",
       "    <tr style=\"text-align: right;\">\n",
       "      <th></th>\n",
       "      <th>Postal Code</th>\n",
       "      <th>Borough</th>\n",
       "      <th>Neighbourhood</th>\n",
       "    </tr>\n",
       "  </thead>\n",
       "  <tbody>\n",
       "    <tr>\n",
       "      <th>0</th>\n",
       "      <td>M3A</td>\n",
       "      <td>North York</td>\n",
       "      <td>Parkwoods</td>\n",
       "    </tr>\n",
       "    <tr>\n",
       "      <th>1</th>\n",
       "      <td>M4A</td>\n",
       "      <td>North York</td>\n",
       "      <td>Victoria Village</td>\n",
       "    </tr>\n",
       "    <tr>\n",
       "      <th>2</th>\n",
       "      <td>M5A</td>\n",
       "      <td>Downtown Toronto</td>\n",
       "      <td>Regent Park, Harbourfront</td>\n",
       "    </tr>\n",
       "    <tr>\n",
       "      <th>3</th>\n",
       "      <td>M6A</td>\n",
       "      <td>North York</td>\n",
       "      <td>Lawrence Manor, Lawrence Heights</td>\n",
       "    </tr>\n",
       "    <tr>\n",
       "      <th>4</th>\n",
       "      <td>M7A</td>\n",
       "      <td>Downtown Toronto</td>\n",
       "      <td>Queen's Park, Ontario Provincial Government</td>\n",
       "    </tr>\n",
       "    <tr>\n",
       "      <th>5</th>\n",
       "      <td>M9A</td>\n",
       "      <td>Etobicoke</td>\n",
       "      <td>Islington Avenue, Humber Valley Village</td>\n",
       "    </tr>\n",
       "    <tr>\n",
       "      <th>6</th>\n",
       "      <td>M1B</td>\n",
       "      <td>Scarborough</td>\n",
       "      <td>Malvern, Rouge</td>\n",
       "    </tr>\n",
       "    <tr>\n",
       "      <th>7</th>\n",
       "      <td>M3B</td>\n",
       "      <td>North York</td>\n",
       "      <td>Don Mills</td>\n",
       "    </tr>\n",
       "    <tr>\n",
       "      <th>8</th>\n",
       "      <td>M4B</td>\n",
       "      <td>East York</td>\n",
       "      <td>Parkview Hill, Woodbine Gardens</td>\n",
       "    </tr>\n",
       "    <tr>\n",
       "      <th>9</th>\n",
       "      <td>M5B</td>\n",
       "      <td>Downtown Toronto</td>\n",
       "      <td>Garden District, Ryerson</td>\n",
       "    </tr>\n",
       "    <tr>\n",
       "      <th>10</th>\n",
       "      <td>M6B</td>\n",
       "      <td>North York</td>\n",
       "      <td>Glencairn</td>\n",
       "    </tr>\n",
       "    <tr>\n",
       "      <th>11</th>\n",
       "      <td>M9B</td>\n",
       "      <td>Etobicoke</td>\n",
       "      <td>West Deane Park, Princess Gardens, Martin Grov...</td>\n",
       "    </tr>\n",
       "    <tr>\n",
       "      <th>12</th>\n",
       "      <td>M1C</td>\n",
       "      <td>Scarborough</td>\n",
       "      <td>Rouge Hill, Port Union, Highland Creek</td>\n",
       "    </tr>\n",
       "    <tr>\n",
       "      <th>13</th>\n",
       "      <td>M3C</td>\n",
       "      <td>North York</td>\n",
       "      <td>Don Mills</td>\n",
       "    </tr>\n",
       "    <tr>\n",
       "      <th>14</th>\n",
       "      <td>M4C</td>\n",
       "      <td>East York</td>\n",
       "      <td>Woodbine Heights</td>\n",
       "    </tr>\n",
       "    <tr>\n",
       "      <th>15</th>\n",
       "      <td>M5C</td>\n",
       "      <td>Downtown Toronto</td>\n",
       "      <td>St. James Town</td>\n",
       "    </tr>\n",
       "    <tr>\n",
       "      <th>16</th>\n",
       "      <td>M6C</td>\n",
       "      <td>York</td>\n",
       "      <td>Humewood-Cedarvale</td>\n",
       "    </tr>\n",
       "    <tr>\n",
       "      <th>17</th>\n",
       "      <td>M9C</td>\n",
       "      <td>Etobicoke</td>\n",
       "      <td>Eringate, Bloordale Gardens, Old Burnhamthorpe...</td>\n",
       "    </tr>\n",
       "    <tr>\n",
       "      <th>18</th>\n",
       "      <td>M1E</td>\n",
       "      <td>Scarborough</td>\n",
       "      <td>Guildwood, Morningside, West Hill</td>\n",
       "    </tr>\n",
       "    <tr>\n",
       "      <th>19</th>\n",
       "      <td>M4E</td>\n",
       "      <td>East Toronto</td>\n",
       "      <td>The Beaches</td>\n",
       "    </tr>\n",
       "  </tbody>\n",
       "</table>\n",
       "</div>"
      ],
      "text/plain": [
       "   Postal Code           Borough  \\\n",
       "0          M3A        North York   \n",
       "1          M4A        North York   \n",
       "2          M5A  Downtown Toronto   \n",
       "3          M6A        North York   \n",
       "4          M7A  Downtown Toronto   \n",
       "5          M9A         Etobicoke   \n",
       "6          M1B       Scarborough   \n",
       "7          M3B        North York   \n",
       "8          M4B         East York   \n",
       "9          M5B  Downtown Toronto   \n",
       "10         M6B        North York   \n",
       "11         M9B         Etobicoke   \n",
       "12         M1C       Scarborough   \n",
       "13         M3C        North York   \n",
       "14         M4C         East York   \n",
       "15         M5C  Downtown Toronto   \n",
       "16         M6C              York   \n",
       "17         M9C         Etobicoke   \n",
       "18         M1E       Scarborough   \n",
       "19         M4E      East Toronto   \n",
       "\n",
       "                                        Neighbourhood  \n",
       "0                                           Parkwoods  \n",
       "1                                    Victoria Village  \n",
       "2                           Regent Park, Harbourfront  \n",
       "3                    Lawrence Manor, Lawrence Heights  \n",
       "4         Queen's Park, Ontario Provincial Government  \n",
       "5             Islington Avenue, Humber Valley Village  \n",
       "6                                      Malvern, Rouge  \n",
       "7                                           Don Mills  \n",
       "8                     Parkview Hill, Woodbine Gardens  \n",
       "9                            Garden District, Ryerson  \n",
       "10                                          Glencairn  \n",
       "11  West Deane Park, Princess Gardens, Martin Grov...  \n",
       "12             Rouge Hill, Port Union, Highland Creek  \n",
       "13                                          Don Mills  \n",
       "14                                   Woodbine Heights  \n",
       "15                                     St. James Town  \n",
       "16                                 Humewood-Cedarvale  \n",
       "17  Eringate, Bloordale Gardens, Old Burnhamthorpe...  \n",
       "18                  Guildwood, Morningside, West Hill  \n",
       "19                                        The Beaches  "
      ]
     },
     "execution_count": 31,
     "metadata": {},
     "output_type": "execute_result"
    }
   ],
   "source": [
    "table.dropna(axis = 0, inplace=True)\n",
    "table = table.reset_index()\n",
    "table = table.drop(['index'],axis = 1)\n",
    "table.head(20)"
   ]
  },
  {
   "cell_type": "markdown",
   "metadata": {},
   "source": [
    "#### Group Neighbourhoods with the same Postcode"
   ]
  },
  {
   "cell_type": "code",
   "execution_count": 42,
   "metadata": {},
   "outputs": [
    {
     "data": {
      "text/html": [
       "<div>\n",
       "<style scoped>\n",
       "    .dataframe tbody tr th:only-of-type {\n",
       "        vertical-align: middle;\n",
       "    }\n",
       "\n",
       "    .dataframe tbody tr th {\n",
       "        vertical-align: top;\n",
       "    }\n",
       "\n",
       "    .dataframe thead th {\n",
       "        text-align: right;\n",
       "    }\n",
       "</style>\n",
       "<table border=\"1\" class=\"dataframe\">\n",
       "  <thead>\n",
       "    <tr style=\"text-align: right;\">\n",
       "      <th></th>\n",
       "      <th>Postal Code</th>\n",
       "      <th>Borough</th>\n",
       "      <th>Neighbourhood</th>\n",
       "    </tr>\n",
       "  </thead>\n",
       "  <tbody>\n",
       "    <tr>\n",
       "      <th>0</th>\n",
       "      <td>M1B</td>\n",
       "      <td>Scarborough</td>\n",
       "      <td>Malvern, Rouge</td>\n",
       "    </tr>\n",
       "    <tr>\n",
       "      <th>1</th>\n",
       "      <td>M1C</td>\n",
       "      <td>Scarborough</td>\n",
       "      <td>Rouge Hill, Port Union, Highland Creek</td>\n",
       "    </tr>\n",
       "    <tr>\n",
       "      <th>2</th>\n",
       "      <td>M1E</td>\n",
       "      <td>Scarborough</td>\n",
       "      <td>Guildwood, Morningside, West Hill</td>\n",
       "    </tr>\n",
       "    <tr>\n",
       "      <th>3</th>\n",
       "      <td>M1G</td>\n",
       "      <td>Scarborough</td>\n",
       "      <td>Woburn</td>\n",
       "    </tr>\n",
       "    <tr>\n",
       "      <th>4</th>\n",
       "      <td>M1H</td>\n",
       "      <td>Scarborough</td>\n",
       "      <td>Cedarbrae</td>\n",
       "    </tr>\n",
       "  </tbody>\n",
       "</table>\n",
       "</div>"
      ],
      "text/plain": [
       "  Postal Code      Borough                           Neighbourhood\n",
       "0         M1B  Scarborough                          Malvern, Rouge\n",
       "1         M1C  Scarborough  Rouge Hill, Port Union, Highland Creek\n",
       "2         M1E  Scarborough       Guildwood, Morningside, West Hill\n",
       "3         M1G  Scarborough                                  Woburn\n",
       "4         M1H  Scarborough                               Cedarbrae"
      ]
     },
     "execution_count": 42,
     "metadata": {},
     "output_type": "execute_result"
    }
   ],
   "source": [
    "table = table.groupby(['Postal Code', 'Borough'])['Neighbourhood'].agg(lambda x:'%s' % ','.join(x))\n",
    "table = table.reset_index()\n",
    "table.head()"
   ]
  },
  {
   "cell_type": "code",
   "execution_count": 38,
   "metadata": {},
   "outputs": [
    {
     "data": {
      "text/plain": [
       "Downsview                                                                                                                                 4\n",
       "Don Mills                                                                                                                                 2\n",
       "Central Bay Street                                                                                                                        1\n",
       "Lawrence Park                                                                                                                             1\n",
       "Weston                                                                                                                                    1\n",
       "Wexford, Maryvale                                                                                                                         1\n",
       "Bayview Village                                                                                                                           1\n",
       "Rosedale                                                                                                                                  1\n",
       "Christie                                                                                                                                  1\n",
       "Humberlea, Emery                                                                                                                          1\n",
       "Harbourfront East, Union Station, Toronto Islands                                                                                         1\n",
       "Regent Park, Harbourfront                                                                                                                 1\n",
       "Woodbine Heights                                                                                                                          1\n",
       "York Mills, Silver Hills                                                                                                                  1\n",
       "Willowdale, Willowdale East                                                                                                               1\n",
       "Alderwood, Long Branch                                                                                                                    1\n",
       "Summerhill West, Rathnelly, South Hill, Forest Hill SE, Deer Park                                                                         1\n",
       "South Steeles, Silverstone, Humbergate, Jamestown, Mount Olive, Beaumond Heights, Thistletown, Albion Gardens                             1\n",
       "North Park, Maple Leaf Park, Upwood Park                                                                                                  1\n",
       "University of Toronto, Harbord                                                                                                            1\n",
       "Willowdale, Willowdale West                                                                                                               1\n",
       "St. James Town                                                                                                                            1\n",
       "Moore Park, Summerhill East                                                                                                               1\n",
       "Parkwoods                                                                                                                                 1\n",
       "Guildwood, Morningside, West Hill                                                                                                         1\n",
       "Del Ray, Mount Dennis, Keelsdale and Silverthorn                                                                                          1\n",
       "East Toronto, Broadview North (Old East York)                                                                                             1\n",
       "Commerce Court, Victoria Hotel                                                                                                            1\n",
       "Scarborough Village                                                                                                                       1\n",
       "North Toronto West, Lawrence Park                                                                                                         1\n",
       "Golden Mile, Clairlea, Oakridge                                                                                                           1\n",
       "Glencairn                                                                                                                                 1\n",
       "Richmond, Adelaide, King                                                                                                                  1\n",
       "First Canadian Place, Underground city                                                                                                    1\n",
       "Dufferin, Dovercourt Village                                                                                                              1\n",
       "Davisville North                                                                                                                          1\n",
       "Woburn                                                                                                                                    1\n",
       "Garden District, Ryerson                                                                                                                  1\n",
       "Birch Cliff, Cliffside West                                                                                                               1\n",
       "Berczy Park                                                                                                                               1\n",
       "Parkdale, Roncesvalles                                                                                                                    1\n",
       "Dorset Park, Wexford Heights, Scarborough Town Centre                                                                                     1\n",
       "Caledonia-Fairbanks                                                                                                                       1\n",
       "Brockton, Parkdale Village, Exhibition Place                                                                                              1\n",
       "Business reply mail Processing Centre, South Central Letter Processing Plant Toronto                                                      1\n",
       "Runnymede, The Junction North                                                                                                             1\n",
       "Lawrence Manor, Lawrence Heights                                                                                                          1\n",
       "Little Portugal, Trinity                                                                                                                  1\n",
       "Toronto Dominion Centre, Design Exchange                                                                                                  1\n",
       "Victoria Village                                                                                                                          1\n",
       "Milliken, Agincourt North, Steeles East, L'Amoreaux East                                                                                  1\n",
       "Runnymede, Swansea                                                                                                                        1\n",
       "Kennedy Park, Ionview, East Birchmount Park                                                                                               1\n",
       "Parkview Hill, Woodbine Gardens                                                                                                           1\n",
       "India Bazaar, The Beaches West                                                                                                            1\n",
       "The Danforth West, Riverdale                                                                                                              1\n",
       "Willowdale, Newtonbrook                                                                                                                   1\n",
       "Church and Wellesley                                                                                                                      1\n",
       "Upper Rouge                                                                                                                               1\n",
       "Humber Summit                                                                                                                             1\n",
       "Old Mill South, King's Mill Park, Sunnylea, Humber Bay, Mimico NE, The Queensway East, Royal York South East, Kingsway Park South East    1\n",
       "CN Tower, King and Spadina, Railway Lands, Harbourfront West, Bathurst Quay, South Niagara, Island airport                                1\n",
       "New Toronto, Mimico South, Humber Bay Shores                                                                                              1\n",
       "Bathurst Manor, Wilson Heights, Downsview North                                                                                           1\n",
       "Cliffside, Cliffcrest, Scarborough Village West                                                                                           1\n",
       "Fairview, Henry Farm, Oriole                                                                                                              1\n",
       "Kingsview Village, St. Phillips, Martin Grove Gardens, Richview Gardens                                                                   1\n",
       "The Kingsway, Montgomery Road, Old Mill North                                                                                             1\n",
       "Davisville                                                                                                                                1\n",
       "Leaside                                                                                                                                   1\n",
       "Northwood Park, York University                                                                                                           1\n",
       "The Annex, North Midtown, Yorkville                                                                                                       1\n",
       "Thorncliffe Park                                                                                                                          1\n",
       "Eringate, Bloordale Gardens, Old Burnhamthorpe, Markland Wood                                                                             1\n",
       "Malvern, Rouge                                                                                                                            1\n",
       "Islington Avenue, Humber Valley Village                                                                                                   1\n",
       "Stn A PO Boxes                                                                                                                            1\n",
       "St. James Town, Cabbagetown                                                                                                               1\n",
       "West Deane Park, Princess Gardens, Martin Grove, Islington, Cloverdale                                                                    1\n",
       "Roselawn                                                                                                                                  1\n",
       "Hillcrest Village                                                                                                                         1\n",
       "Cedarbrae                                                                                                                                 1\n",
       "Queen's Park, Ontario Provincial Government                                                                                               1\n",
       "Agincourt                                                                                                                                 1\n",
       "Rouge Hill, Port Union, Highland Creek                                                                                                    1\n",
       "High Park, The Junction South                                                                                                             1\n",
       "Steeles West, L'Amoreaux West                                                                                                             1\n",
       "Humewood-Cedarvale                                                                                                                        1\n",
       "Westmount                                                                                                                                 1\n",
       "The Beaches                                                                                                                               1\n",
       "Canada Post Gateway Processing Centre                                                                                                     1\n",
       "Clarks Corners, Tam O'Shanter, Sullivan                                                                                                   1\n",
       "Forest Hill North & West, Forest Hill Road Park                                                                                           1\n",
       "Studio District                                                                                                                           1\n",
       "Northwest, West Humber - Clairville                                                                                                       1\n",
       "Mimico NW, The Queensway West, South of Bloor, Kingsway Park South West, Royal York South West                                            1\n",
       "Kensington Market, Chinatown, Grange Park                                                                                                 1\n",
       "York Mills West                                                                                                                           1\n",
       "Bedford Park, Lawrence Manor East                                                                                                         1\n",
       "Name: Neighbourhood, dtype: int64"
      ]
     },
     "execution_count": 38,
     "metadata": {},
     "output_type": "execute_result"
    }
   ],
   "source": [
    "# No \"Not Assigned\" neibourhood anymore.\n",
    "table.Neighbourhood.value_counts()"
   ]
  },
  {
   "cell_type": "code",
   "execution_count": 39,
   "metadata": {},
   "outputs": [
    {
     "name": "stdout",
     "output_type": "stream",
     "text": [
      "The number of rows: 103\n"
     ]
    }
   ],
   "source": [
    "table.shape\n",
    "print(\"The number of rows:\", table.shape[0])"
   ]
  },
  {
   "cell_type": "markdown",
   "metadata": {},
   "source": [
    "#### To scape the data with BeautifulSoup"
   ]
  },
  {
   "cell_type": "code",
   "execution_count": 47,
   "metadata": {},
   "outputs": [
    {
     "name": "stdout",
     "output_type": "stream",
     "text": [
      "Collecting beautifulsoup4\n",
      "\u001b[?25l  Downloading https://files.pythonhosted.org/packages/d1/41/e6495bd7d3781cee623ce23ea6ac73282a373088fcd0ddc809a047b18eae/beautifulsoup4-4.9.3-py3-none-any.whl (115kB)\n",
      "\u001b[K     |████████████████████████████████| 122kB 5.2MB/s eta 0:00:01\n",
      "\u001b[?25hCollecting soupsieve>1.2; python_version >= \"3.0\" (from beautifulsoup4)\n",
      "  Downloading https://files.pythonhosted.org/packages/6f/8f/457f4a5390eeae1cc3aeab89deb7724c965be841ffca6cfca9197482e470/soupsieve-2.0.1-py3-none-any.whl\n",
      "Installing collected packages: soupsieve, beautifulsoup4\n",
      "Successfully installed beautifulsoup4-4.9.3 soupsieve-2.0.1\n",
      "Note: you may need to restart the kernel to use updated packages.\n"
     ]
    }
   ],
   "source": [
    "pip install beautifulsoup4"
   ]
  },
  {
   "cell_type": "code",
   "execution_count": 48,
   "metadata": {},
   "outputs": [],
   "source": [
    "from bs4 import BeautifulSoup\n",
    "import requests\n",
    "import pandas as pd"
   ]
  },
  {
   "cell_type": "code",
   "execution_count": 49,
   "metadata": {},
   "outputs": [],
   "source": [
    "List_url = 'https://en.wikipedia.org/wiki/List_of_postal_codes_of_Canada:_M'\n",
    "source = requests.get(List_url).text"
   ]
  },
  {
   "cell_type": "code",
   "execution_count": 50,
   "metadata": {},
   "outputs": [],
   "source": [
    "soup = BeautifulSoup(source,'xml')"
   ]
  },
  {
   "cell_type": "code",
   "execution_count": 51,
   "metadata": {},
   "outputs": [],
   "source": [
    "table=soup.find('table')"
   ]
  },
  {
   "cell_type": "code",
   "execution_count": 52,
   "metadata": {},
   "outputs": [],
   "source": [
    "#dataframe will consist of three columns: PostalCode, Botough and Neighborhood\n",
    "column_names = ['PostalCode', 'Borough', 'Neighborhood']\n",
    "df = pd.DataFrame(columns = column_names)"
   ]
  },
  {
   "cell_type": "code",
   "execution_count": 53,
   "metadata": {},
   "outputs": [],
   "source": [
    "# Search all the postcode, borough, neighborhood\n",
    "for tr_cell in table.find_all('tr'):\n",
    "    row_data=[]\n",
    "    for td_cell in tr_cell.find_all('td'):\n",
    "        row_data.append(td_cell.text.strip())\n",
    "        if len(row_data)==3:\n",
    "            df.loc[len(df)]=row_data\n",
    "    "
   ]
  },
  {
   "cell_type": "code",
   "execution_count": 54,
   "metadata": {},
   "outputs": [
    {
     "data": {
      "text/html": [
       "<div>\n",
       "<style scoped>\n",
       "    .dataframe tbody tr th:only-of-type {\n",
       "        vertical-align: middle;\n",
       "    }\n",
       "\n",
       "    .dataframe tbody tr th {\n",
       "        vertical-align: top;\n",
       "    }\n",
       "\n",
       "    .dataframe thead th {\n",
       "        text-align: right;\n",
       "    }\n",
       "</style>\n",
       "<table border=\"1\" class=\"dataframe\">\n",
       "  <thead>\n",
       "    <tr style=\"text-align: right;\">\n",
       "      <th></th>\n",
       "      <th>PostalCode</th>\n",
       "      <th>Borough</th>\n",
       "      <th>Neighborhood</th>\n",
       "    </tr>\n",
       "  </thead>\n",
       "  <tbody>\n",
       "    <tr>\n",
       "      <th>0</th>\n",
       "      <td>M1A</td>\n",
       "      <td>Not assigned</td>\n",
       "      <td>Not assigned</td>\n",
       "    </tr>\n",
       "    <tr>\n",
       "      <th>1</th>\n",
       "      <td>M2A</td>\n",
       "      <td>Not assigned</td>\n",
       "      <td>Not assigned</td>\n",
       "    </tr>\n",
       "    <tr>\n",
       "      <th>2</th>\n",
       "      <td>M3A</td>\n",
       "      <td>North York</td>\n",
       "      <td>Parkwoods</td>\n",
       "    </tr>\n",
       "    <tr>\n",
       "      <th>3</th>\n",
       "      <td>M4A</td>\n",
       "      <td>North York</td>\n",
       "      <td>Victoria Village</td>\n",
       "    </tr>\n",
       "    <tr>\n",
       "      <th>4</th>\n",
       "      <td>M5A</td>\n",
       "      <td>Downtown Toronto</td>\n",
       "      <td>Regent Park, Harbourfront</td>\n",
       "    </tr>\n",
       "  </tbody>\n",
       "</table>\n",
       "</div>"
      ],
      "text/plain": [
       "  PostalCode           Borough               Neighborhood\n",
       "0        M1A      Not assigned               Not assigned\n",
       "1        M2A      Not assigned               Not assigned\n",
       "2        M3A        North York                  Parkwoods\n",
       "3        M4A        North York           Victoria Village\n",
       "4        M5A  Downtown Toronto  Regent Park, Harbourfront"
      ]
     },
     "execution_count": 54,
     "metadata": {},
     "output_type": "execute_result"
    }
   ],
   "source": [
    "df.head()"
   ]
  },
  {
   "cell_type": "markdown",
   "metadata": {},
   "source": [
    "#### Data Cleaning\n",
    "* remove rows where Borough is \"Not assigned\""
   ]
  },
  {
   "cell_type": "code",
   "execution_count": 55,
   "metadata": {},
   "outputs": [],
   "source": [
    "df=df[df['Borough']!='Not assigned']"
   ]
  },
  {
   "cell_type": "code",
   "execution_count": 66,
   "metadata": {},
   "outputs": [
    {
     "data": {
      "text/html": [
       "<div>\n",
       "<style scoped>\n",
       "    .dataframe tbody tr th:only-of-type {\n",
       "        vertical-align: middle;\n",
       "    }\n",
       "\n",
       "    .dataframe tbody tr th {\n",
       "        vertical-align: top;\n",
       "    }\n",
       "\n",
       "    .dataframe thead th {\n",
       "        text-align: right;\n",
       "    }\n",
       "</style>\n",
       "<table border=\"1\" class=\"dataframe\">\n",
       "  <thead>\n",
       "    <tr style=\"text-align: right;\">\n",
       "      <th></th>\n",
       "      <th>PostalCode</th>\n",
       "      <th>Borough</th>\n",
       "      <th>Neighborhood</th>\n",
       "    </tr>\n",
       "  </thead>\n",
       "  <tbody>\n",
       "  </tbody>\n",
       "</table>\n",
       "</div>"
      ],
      "text/plain": [
       "Empty DataFrame\n",
       "Columns: [PostalCode, Borough, Neighborhood]\n",
       "Index: []"
      ]
     },
     "execution_count": 66,
     "metadata": {},
     "output_type": "execute_result"
    }
   ],
   "source": [
    "# There are not 'Neighborhood' named as 'Not assigned' anymore.\n",
    "df[df['Neighborhood']=='Not assigned']\n"
   ]
  },
  {
   "cell_type": "code",
   "execution_count": 68,
   "metadata": {},
   "outputs": [
    {
     "name": "stdout",
     "output_type": "stream",
     "text": [
      "The number of rows: 103\n"
     ]
    }
   ],
   "source": [
    "print(\"The number of rows:\", df.shape[0])"
   ]
  },
  {
   "cell_type": "code",
   "execution_count": null,
   "metadata": {},
   "outputs": [],
   "source": []
  }
 ],
 "metadata": {
  "kernelspec": {
   "display_name": "Python",
   "language": "python",
   "name": "conda-env-python-py"
  },
  "language_info": {
   "codemirror_mode": {
    "name": "ipython",
    "version": 3
   },
   "file_extension": ".py",
   "mimetype": "text/x-python",
   "name": "python",
   "nbconvert_exporter": "python",
   "pygments_lexer": "ipython3",
   "version": "3.6.11"
  }
 },
 "nbformat": 4,
 "nbformat_minor": 4
}
